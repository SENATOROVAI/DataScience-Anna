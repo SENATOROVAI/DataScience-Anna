{
 "cells": [
  {
   "cell_type": "code",
   "execution_count": null,
   "metadata": {},
   "outputs": [],
   "source": [
    "\"\"\"Utility functions and classes for calculating speed.\n",
    "   31.10.2024 описание того, что выполнено на уроке\n",
    "   1. Разобрали ошибки, связанные с логированием , репозиторием - неправильно создан клон репозитория\n",
    "   2. Выполнили обновление на версию V1.0.6\n",
    "   3. По домашнему заданию (папка Math) определили срок дедлайна : строка с 6 по 22 в течение -х неделль с 31 октября\n",
    "\"\"\"\n",
    "\n",
    "\n"
   ]
  }
 ],
 "metadata": {
  "language_info": {
   "name": "python"
  }
 },
 "nbformat": 4,
 "nbformat_minor": 2
}
