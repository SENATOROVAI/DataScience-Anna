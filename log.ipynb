{
 "cells": [
  {
   "cell_type": "code",
   "execution_count": null,
   "metadata": {},
   "outputs": [],
   "source": [
    "\"\"\"Utility functions and classes for calculating speed.\n",
    "\n",
    "This module provides:\n",
    "- FasterThanLightError: exception when FTL speed is calculated;\n",
    "- calculate_speed: calculate speed given distance and time.\n",
    "\"\"\"\n"
   ]
  }
 ],
 "metadata": {
  "language_info": {
   "name": "python"
  }
 },
 "nbformat": 4,
 "nbformat_minor": 2
}
